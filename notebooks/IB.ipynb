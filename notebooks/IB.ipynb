{
 "cells": [
  {
   "cell_type": "code",
   "execution_count": null,
   "metadata": {
    "collapsed": false
   },
   "outputs": [],
   "source": [
    "%matplotlib notebook\n",
    "import os; os.environ['INTERACTIVE']='y'\n",
    "import pandas as pd\n",
    "from simudo.trash.dirty_bandplot import do_band_plot\n",
    "from simudo.trash.dirty_poster_plot import do_n_plot, do_j_plot\n",
    "from simudo.util.plot import plt, subplots\n",
    "import numpy as np\n",
    "\n",
    "def add_jtot(df):\n",
    "    df.j_tot = df.j_CB + df.j_VB + np.nan_to_num(df.j_IB)\n",
    "\n",
    "ITER = 0\n",
    "\n",
    "#df = pd.read_csv('/home/user/j/out/diode c=1e18 V=-0.2 m=mixed.out.d/po_thmeq.csv.0')\n",
    "#df = pd.read_csv('/home/user/j/out.beforechange/diode c=1e18 V=0.4 m=mixed.out.d/final.csv.0')\n",
    "#df = pd.read_csv('/home/user/j/out/diode c=1e18 V=0.2 m=mixed.out.d/progress.csv.{}'.format(ITER))\n",
    "#df = pd.read_csv('/home/user/j/out/diode c=1e18 V=0.2 m=mixed.out.d/thmeq.csv.{}'.format(0))\n",
    "#df = pd.read_csv('/home/user/j/out/diode c=1e18 V=0.2 m=mixed.out.d/final.csv.{}'.format(ITER))\n",
    "#opt 8.000000.csv.0\n",
    "\n",
    "df = pd.read_csv('/home/user/j/out/diode c=1e18 V=0.2 m=mixed.out.d/Vext V=-0.500000000.csv.{}'.format(ITER))\n",
    "#df = pd.read_csv('/home/user/j/out/diode c=1e18 V=0.2 m=mixed.out.d/po_thmeq.csv.{}'.format(ITER))\n",
    "#df = pd.read_csv('/home/user/j/out/diode c=1e18 V=0.2 m=mixed.out.d/opt inf.csv.{}'.format(ITER))\n",
    "#df = pd.read_csv('/home/user/j/out/diode c=1e18 V=0.2 m=mixed.out.d/opt 8.000000.csv.{}'.format(ITER))"
   ]
  },
  {
   "cell_type": "code",
   "execution_count": null,
   "metadata": {
    "collapsed": false
   },
   "outputs": [],
   "source": [
    "# EXTRACT JV\n",
    "\n",
    "from glob import glob\n",
    "from parse import parse\n",
    "import os\n",
    "\n",
    "#WHERE = \"save.out.light cv_only bias=0.5V X=1e-6 e60f4b6015c1c1a27673c\"\n",
    "#WHERE = \"out.hack-ib_NI_1e14_X_1e-6\"\n",
    "#WHERE = \"out\"\n",
    "WHERE = \"out.dark JV 20180731\"\n",
    "\n",
    "WHERE = \"/home/user/j/\" + WHERE\n",
    "\n",
    "JVlist = []\n",
    "for fn in glob(WHERE+\"/diode c=1e18 V=0.2 m=mixed.out.d/*.csv.0\"):\n",
    "    r = parse(\"Vext V={:f}.csv.0\", os.path.basename(fn))\n",
    "    if not r: continue\n",
    "    V, = r\n",
    "    df = pd.read_csv(fn)\n",
    "    add_jtot(df)\n",
    "    JVlist.append((V, np.median(df.j_tot.values)))\n",
    "    \n",
    "JV = pd.DataFrame(JVlist, columns='V J'.split())\n",
    "JV.sort_values('V', inplace=True)"
   ]
  },
  {
   "cell_type": "code",
   "execution_count": null,
   "metadata": {
    "collapsed": true
   },
   "outputs": [],
   "source": [
    "#JV1 = JV\n",
    "#JV2 = JV"
   ]
  },
  {
   "cell_type": "code",
   "execution_count": null,
   "metadata": {
    "collapsed": false
   },
   "outputs": [],
   "source": [
    "# PLOT JV\n",
    "\n",
    "JV1 = JV1[(JV1.V <= 1.1) & (JV1.V > 0)]\n",
    "JV2 = JV2[(JV2.V <= 1.1) & (JV2.V > 0)]\n",
    "with subplots(closefig=0) as (fig, ax):\n",
    "    ax.set_title(r\"JV curve\")\n",
    "    ax.set_xlabel(r\"Applied bias (V)\")\n",
    "    ax.set_ylabel(r\"Current density ($\\mathrm{\\mu A/cm^2}$)\")\n",
    "    ax.plot(JV1.V, (abs(JV1.J)/1e3)*1e6, label=r\"$N_I=2.5\\times 10^{17}\\;\\mathrm{cm^{-3}}$\")\n",
    "    ax.plot(JV1.V, (abs(JV2.J)/1e3)*1e6, label=r\"$N_I=10^{14}\\;\\mathrm{cm^{-3}}$\")\n",
    "    ax.set_yscale('log')\n",
    "    ax.grid(True)\n",
    "    ax.legend()"
   ]
  },
  {
   "cell_type": "code",
   "execution_count": null,
   "metadata": {
    "collapsed": false
   },
   "outputs": [],
   "source": [
    "df.IBmask = IBmask = np.where(df.actual_IB > 0.5, 1.0, np.nan)\n",
    "\n",
    "df.mu_IB *= IBmask\n",
    "df.j_IB *= IBmask\n",
    "df.edgeE_IB *= IBmask"
   ]
  },
  {
   "cell_type": "code",
   "execution_count": null,
   "metadata": {
    "collapsed": false,
    "scrolled": false
   },
   "outputs": [],
   "source": [
    "#df.columns;0\n",
    "\n",
    "df.u_VB.values[:8]"
   ]
  },
  {
   "cell_type": "code",
   "execution_count": null,
   "metadata": {
    "collapsed": false
   },
   "outputs": [],
   "source": [
    "D = df\n",
    "#D = D[D.coord_x > 0.165]\n",
    "\n",
    "#plt.plot(D['coord_x'], D.mu_CB)\n",
    "with subplots(closefig=0) as (fig, ax):\n",
    "    for t in 'ci iv cv'.split():\n",
    "        k = 'alpha_'+t\n",
    "        ax.plot(D['coord_x'], D[k], label=k)\n",
    "    ax.set_title(r\"extinction coeff, $\\mathrm{1/cm}$\")\n",
    "    ax.grid(True)\n",
    "    ax.legend()\n",
    "    \n",
    "with subplots(closefig=0) as (fig, ax):\n",
    "    for t in 'ci iv cv'.split():\n",
    "        k = 'I_'+t\n",
    "        ax.plot(D['coord_x'], D[k], label=k)\n",
    "    ax.set_title(r\"I, $\\mathrm{1/cm^2/s}$\")\n",
    "    ax.grid(True)\n",
    "    ax.legend()\n",
    "\n",
    "with subplots(closefig=0) as (fig, ax):\n",
    "    for t in 'ci iv cv'.split():\n",
    "        k = 'optg_'+t\n",
    "        ax.plot(D['coord_x'], D[k], label=k)\n",
    "    ax.set_title(r\"optical generation, $\\mathrm{1/cm^3}$\")\n",
    "    ax.grid(True)\n",
    "    ax.legend()"
   ]
  },
  {
   "cell_type": "code",
   "execution_count": null,
   "metadata": {
    "collapsed": false
   },
   "outputs": [],
   "source": [
    "#w = df['w_base_CB']+df['w_delta_CB']\n",
    "#w2 = df2['w_base_CB']+df2['w_delta_CB']\n",
    "\n",
    "#plt.plot(df['coord_x'], w-w2)\n",
    "\n",
    "D = df\n",
    "#D = D[D.coord_x > 0.165]\n",
    "\n",
    "#plt.plot(D['coord_x'], D.mu_CB)\n",
    "with subplots(closefig=0) as (fig, ax):\n",
    "    ax.plot(D['coord_x'], D.j_CB + D.j_VB + np.nan_to_num(D.j_IB))\n",
    "    ax.set_title(\"j_total\")\n",
    "    ax.grid(True)\n",
    "\n",
    "    #plt.plot(df['coord_x'], df2.w_base_CB)\n",
    "    #plt.plot(df['coord_x'], w2)\n",
    "\n",
    "with subplots(closefig=0) as (fig, ax):\n",
    "    ax.plot(D['coord_x'], D.u_IB / 2.5e+17)\n",
    "    ax.set_title(\"IB fill fraction\")\n",
    "    ax.set_xlim((1, 2))\n",
    "    ax.grid(True)"
   ]
  },
  {
   "cell_type": "code",
   "execution_count": null,
   "metadata": {
    "collapsed": false
   },
   "outputs": [],
   "source": [
    "D=df\n",
    "with subplots(closefig=0) as (fig, ax):\n",
    "    for t in 'CB'.split():\n",
    "        k = 'u_'+t\n",
    "        ax.plot(D['coord_x'], D[k], label=k)\n",
    "#    ax.plot(D['coord_x'], D['aeu_p'], label='aeu_p')\n",
    "#    ax.plot(D['coord_x'], D['aeu_n'], label='aeu_n')\n",
    "#    ax.plot(D['coord_x'], D['u_bc_CB_n_contact'], label='bc1')\n",
    "    ax.plot(D['coord_x'], D['u2_bc_CB_n_contact'], label='bc2')\n",
    "    #ax.plot(D['coord_x'], np.exp(D['V']*40), label='V')\n",
    "    ax.set_title(r\"u, $\\mathrm{1/cm^3}$\")\n",
    "    ax.set_yscale('log')\n",
    "    ax.grid(True)\n",
    "    ax.legend()"
   ]
  },
  {
   "cell_type": "code",
   "execution_count": null,
   "metadata": {
    "collapsed": false
   },
   "outputs": [],
   "source": [
    "# checking whether u obeys its BC\n",
    "D=df\n",
    "with subplots(closefig=0) as (fig, ax):\n",
    "    #ax.plot(D['coord_x'], D.u_bc_CB_p_contact)\n",
    "    ax.plot(D['coord_x'], D.mu2_VB)\n",
    "    ax.plot(D['coord_x'], D.mu2_CB)\n",
    "    #ax.plot(D['coord_x'], D.mu2_VB)\n",
    "    #ax.set_yscale('log')\n",
    "    ax.set_title(\"u\")\n",
    "    ax.grid(True)"
   ]
  },
  {
   "cell_type": "code",
   "execution_count": null,
   "metadata": {
    "collapsed": false
   },
   "outputs": [],
   "source": [
    "# checking whether w obeys its BC\n",
    "D=df\n",
    "with subplots(closefig=0) as (fig, ax):\n",
    "    ax.plot(D['coord_x'], D.w_bc_CB_p_contact, label=\"w_BC\")\n",
    "    ax.plot(D['coord_x'], D.w_base_CB + D.w_delta_CB, label=\"w\")\n",
    "    ax.set_title(\"w vs w_BC\")\n",
    "    ax.grid(True)\n",
    "    ax.legend()"
   ]
  },
  {
   "cell_type": "code",
   "execution_count": null,
   "metadata": {
    "collapsed": false,
    "scrolled": false
   },
   "outputs": [],
   "source": [
    "add_jtot(df)\n",
    "\n",
    "do_band_plot(None, df)\n",
    "do_j_plot(None, df)"
   ]
  }
 ],
 "metadata": {
  "celltoolbar": "Raw Cell Format",
  "kernelspec": {
   "display_name": "Python 3",
   "language": "python",
   "name": "python3"
  },
  "language_info": {
   "codemirror_mode": {
    "name": "ipython",
    "version": 3
   },
   "file_extension": ".py",
   "mimetype": "text/x-python",
   "name": "python",
   "nbconvert_exporter": "python",
   "pygments_lexer": "ipython3",
   "version": "3.5.3"
  }
 },
 "nbformat": 4,
 "nbformat_minor": 2
}
