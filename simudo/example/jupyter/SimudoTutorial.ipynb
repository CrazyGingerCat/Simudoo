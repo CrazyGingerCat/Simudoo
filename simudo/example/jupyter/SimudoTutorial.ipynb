{
 "cells": [
  {
   "cell_type": "markdown",
   "metadata": {},
   "source": [
    "# Simudo tutorial\n",
    "The goal of this tutorial is to walk through some of the major components of Simudo. We will focus on making a 1D layered structure. \n",
    "\n",
    "Simudo is a steady-state coupled Poisson/drift-diffusion solver. It determines the quasi-Fermi-level and current densities of carriers in each band throughout the structure. In order to define a problem in Simudo, we need to define these main pieces\n",
    "- Regions - possibly overlapping. Regions can have **materials** and **properties**.\n",
    "- Bands - Semiconductors have 2 (conduction and valence). Intermediate band (IB) materials have 3\n",
    "- Mesh\n",
    "- Boundary conditions - Conductive/nonconductive surfaces. Internal BCs at heterojunctions and where IBs end\n",
    "- Optical fields (if needed)\n",
    "- Electrooptical processes - Processes that move carriers between bands. Including light absorption and recombination mechanisms such as SRH. \n",
    "\n",
    "This tutorial refers to features of Simudo 0.6.4.1.  \n",
    "Simudo was developed by Eduard Dumitrescu, Matthew Wilkins, and Jacob Krich at the [University of Ottawa](https://krichlab.physics.uottawa.ca). It was first released in 2019 and is available on [github](https://github.com/simudo/simudo).  \n",
    "It is built on top of the open-source finite-element solver [FEniCS](https://fenicsproject.org/)."
   ]
  },
  {
   "cell_type": "code",
   "execution_count": null,
   "metadata": {},
   "outputs": [],
   "source": [
    "%matplotlib notebook \n",
    "%load_ext autoreload\n",
    "%autoreload 2"
   ]
  },
  {
   "cell_type": "code",
   "execution_count": null,
   "metadata": {},
   "outputs": [],
   "source": [
    "import numpy as np\n",
    "from matplotlib import pyplot as plt\n",
    "import simudo\n",
    "print(f\"Simudo version: {simudo.__version__} is installed\")"
   ]
  },
  {
   "cell_type": "markdown",
   "metadata": {},
   "source": [
    "### References\n",
    "[1](https://doi.org/10.1007/s10825-019-01414-3) Eduard C. Dumitrescu, Matthew M. Wilkins, and Jacob J. Krich, \n",
    "*Simudo: A device model for intermediate band materials*  \n",
    "Journal of Computational Electronics **19** 111-127 (2020); arXiv:[1905.11303](https://arxiv.org/abs/1905.11303)"
   ]
  },
  {
   "cell_type": "markdown",
   "metadata": {},
   "source": [
    "### Obtaining the software\n",
    "Simudo has been successfully run on Debian and Ubuntu linux distributions as well as using Docker on MacOs and Windows 10 system. Please follow the [installation instructions](https://static.ecd.space/x/simudo-doc/user/install.html)\n"
   ]
  },
  {
   "attachments": {},
   "cell_type": "markdown",
   "metadata": {},
   "source": [
    "## Example 1: pn junction\n",
    "\n",
    "We will begin by setting up a simple problem in Simudo: a pn homojunction. We will consider a p-type semiconductor of thickness $t_p$ and doping $N_A$ connected to an n-type semiconductor of thickness $t_n$ and doping $N_D$. We will have Ohmic (i.e., perfectly conductive) boundary conditions at the boundaries of the system.\n",
    "\n",
    "A sketch of the structure simulated in this tutorial is shown below.\n",
    "![pn-sketch.svg](pn-sketch.svg)\n",
    "\n",
    "\n",
    "\n",
    "This example is modified from `simudo/examples/pn_diode/pn_diode.py`, which has a better structure for the code. Here, we unpack and discuss the various components, in a different order."
   ]
  },
  {
   "cell_type": "markdown",
   "metadata": {},
   "source": [
    "### Preamble\n",
    "Simudo uses the [Pint](https://pint.readthedocs.io/) package to keep track of all units. Since DOLFIN/FEniCS do not know about Pint Quantities, Simudo has a number of utilities to load and unload the units to/from objects. The fundamental object for unit conversions is the `UnitRegistry`. At the beginning of all Simudo evaluations, we establish a unit registry and also set up logging."
   ]
  },
  {
   "cell_type": "code",
   "execution_count": null,
   "metadata": {},
   "outputs": [],
   "source": [
    "from simudo.util import TypicalLoggingSetup, make_unit_registry\n",
    "from simudo.fem import setup_dolfin_parameters\n",
    "\n",
    "U = make_unit_registry((\"mesh_unit = 1 micrometer\",)) \n",
    "TypicalLoggingSetup(filename_prefix=\"out/output\").setup() #filename_prefix should indicate where you want the log files named/stored\n",
    "setup_dolfin_parameters() "
   ]
  },
  {
   "cell_type": "markdown",
   "metadata": {},
   "source": [
    "### Make mesh associated with layers\n",
    "For 1D problems, it is easiest to use `ConstructionHelperLayeredStructure`, which receives a list of dictionaries, each defining a layer of the device, starting from the left. Each layer should have a `name`, a `material`, a `thickness`, and a `mesh`.  \n",
    "- `name` is used to identify the layer, for applying rules/parameters/conditions and for setting up output rules to get desired information in the layer.  \n",
    "- `material` is used to determine material properties and will be described below.  \n",
    "- `mesh` can be of `type=\"constant\"`, which gives uniform meshing with constant spacing `edge_length` between nodes, or `type=\"geometric\"`, which gives geometrically expanding mesh spacings, growing from the region boundaries. For the geometric mesh, the initial spacing is `start` and the growth factor is `factor`, so it also creates a constant mesh when used with `factor=1`.\n"
   ]
  },
  {
   "cell_type": "code",
   "execution_count": null,
   "metadata": {},
   "outputs": [],
   "source": [
    "from simudo.mesh import ConstructionHelperLayeredStructure\n",
    "\n",
    "#Define our parameters for the problem\n",
    "t_p = 1 #in units of mesh_unit\n",
    "t_n = 2 #in units of mesh_unit\n",
    "N_A = 1e18*U(\"elementary_charge/cm^3\")\n",
    "N_D = 1e17*U(\"elementary_charge/cm^3\")\n",
    "\n",
    "mesh = dict(type=\"geometric\", start=0.005, factor=1.2)\n",
    "layers = [\n",
    "    dict(name='p', material='SimpleMaterial', thickness=t_p, \n",
    "         mesh=mesh),\n",
    "    dict(name='n', material='SimpleMaterial', thickness=t_n,\n",
    "         mesh=mesh)    \n",
    "]\n",
    "ls = ConstructionHelperLayeredStructure()\n",
    "ls.params=dict(edge_length = 1/20, # default edge length (in units of mesh_unit). Not used with geometric mesh\n",
    "               simple_overmesh_regions = [], # regions to put extra mesh \n",
    "               layers = layers,\n",
    "               mesh_unit = U.mesh_unit )\n",
    "ls.run()\n",
    "mesh_data = ls.mesh_data\n",
    "#number of mesh points in the x direction:\n",
    "print(len(ls.interval_1d_tag.coordinates['coordinates']))"
   ]
  },
  {
   "cell_type": "markdown",
   "metadata": {},
   "source": [
    "Note that we have not yet defined our `SimpleMaterial` class. For now, it is just a label. "
   ]
  },
  {
   "cell_type": "markdown",
   "metadata": {},
   "source": [
    "### Define ProblemData\n",
    "The problem that is to be solved is contained in a `ProblemData` instance. In general, we make three related versions of the the problem, for the three stages of solving\n",
    "- local charge neutrality\n",
    "- thermal equilbrium\n",
    "- full problem\n",
    "\n",
    "as described in the Reference. The `problemdata` is generally constructed for these three stages using a function, since much of the code is the same for each stage. For this tutorial, we'll make it directly.\n",
    "\n",
    "## Stage 1 - Local Charge Neutrality"
   ]
  },
  {
   "cell_type": "code",
   "execution_count": null,
   "metadata": {},
   "outputs": [],
   "source": [
    "from simudo.physics import ProblemData\n",
    "\n",
    "problem_ntrl = ProblemData(goal=\"local charge neutrality\", \n",
    "                   mesh_data=mesh_data,\n",
    "                  unit_registry=U)\n",
    "pdd = problem_ntrl.pdd"
   ]
  },
  {
   "cell_type": "markdown",
   "metadata": {},
   "source": [
    "The `pdd` object (it stands for Poisson drift diffusion) is a powerful utility that helps to construct the problem. We will unpack some of its attributes, but there are many.\n",
    "\n",
    "For this problem, we will create two bands. If no other arguments is given, `pdd.easy_add_band` creates nondegenerate bands that exist in the full simulation domain. Any number of bands can be added, each of which must have a distinct `name`.  \n",
    "If `name==\"CB\"`, the band is understood to be a conduction band with negative-charge carriers.  \n",
    "If `name==\"VB\"`, the band is understood to be a valence band with positive-charge carriers.  \n",
    "The `easy_add_band` method can also give any other name to the band, and one can specify the `sign` of the charge carriers directly."
   ]
  },
  {
   "cell_type": "code",
   "execution_count": null,
   "metadata": {},
   "outputs": [],
   "source": [
    "CB = pdd.easy_add_band(name='CB')\n",
    "VB = pdd.easy_add_band(name='VB')\n"
   ]
  },
  {
   "cell_type": "markdown",
   "metadata": {},
   "source": [
    "### Define spatially varying properties\n",
    "Simudo solves for electrostatic potential $\\phi$, electric field $\\vec{E}$, and in each band $k$ the quasi-Fermi level $w_k$ and current density $\\vec{j}_k$. In addition to those dynamical quantities, Simudo considers most physical properties of the system to be spatially varying. In this effort, it takes advantage of the powerful symbolic expression capabilities of FEniCS and its underlying form compiler.  \n",
    "We add spatially varying quantities using `pdd.spatial`, which has the `add_rule` method.\n",
    "\n",
    "In order to define in which portions of the simulation domain a rule should apply, Simudo has a powerful **topology engine**. This engine is described in the Simudo reference. It allows regions to be defined without specific reference to the mesh at the time of declaration. "
   ]
  },
  {
   "cell_type": "code",
   "execution_count": null,
   "metadata": {},
   "outputs": [],
   "source": [
    "from simudo.mesh import CellRegions, FacetRegions\n",
    "R = CellRegions()\n",
    "F = FacetRegions()"
   ]
  },
  {
   "cell_type": "markdown",
   "metadata": {},
   "source": [
    "`R` and `F` are objects that will contain region declarations and can determine the intersections, unions, and boundaries of these regions. Some regions are defined by default, such as `R.domain`, which is the entire simulation domain. \n",
    "\n",
    "The temperature is considered to be a spatially varying quantity, though in this problem we will set it to be uniform over the full domain. "
   ]
  },
  {
   "cell_type": "code",
   "execution_count": null,
   "metadata": {},
   "outputs": [],
   "source": [
    "spatial = pdd.spatial\n",
    "spatial.add_rule('temperature', R.domain, U(\"300 K\"))"
   ]
  },
  {
   "cell_type": "markdown",
   "metadata": {},
   "source": [
    "We also define the doping level in each region. Assuming fully ionized dopants, we define the doping level by putting in rules for the static background charge of the ionized impurities. So n-type dopants are given by positive static charge and p-type dopants are given by negative static charge"
   ]
  },
  {
   "cell_type": "code",
   "execution_count": null,
   "metadata": {},
   "outputs": [],
   "source": [
    "spatial.add_rule('poisson/static_rho', R.p, -N_A) #N_A and N_D defined with units\n",
    "spatial.add_rule('poisson/static_rho', R.n, +N_D)"
   ]
  },
  {
   "cell_type": "markdown",
   "metadata": {},
   "source": [
    "The regions `R.p` and `R.n` refer to the `name`s that we gave to the `layers` in the `ConstructionHelperLayeredStructure`. `add_rule` allows the rule names (e.g., `poisson/static_rho` or `temperature`) to be anything that you like. Processes request specific property names from `spatial`, as needed.  "
   ]
  },
  {
   "cell_type": "markdown",
   "metadata": {},
   "source": [
    "### Define material\n",
    "Frequently, regions of a simulation correspond to different material types, which have their own properties. Materials are generally defined in their own custom files, which can be as complicated as desired. Band edge energies can, for example, depend on local carrier concentrations. In Simudo, these material files create a class that inherits from `Material` and defines a `get_dict` method, returning a dictionary of rules that should be added to `spatial`. \n",
    "\n",
    " Here we create a simple material with only the bare minimum of properties required for this example."
   ]
  },
  {
   "cell_type": "code",
   "execution_count": null,
   "metadata": {},
   "outputs": [],
   "source": [
    "from simudo.physics import Material\n",
    "\n",
    "class SimpleMaterial(Material):\n",
    "    '''Very simple silicon-inspired material.'''\n",
    "\n",
    "    #name is used for referring to the material\n",
    "    #it should be different for each material in the problem\n",
    "    name = 'SimpleMaterial' \n",
    "\n",
    "    def get_dict(self):\n",
    "        d = super().get_dict()\n",
    "        U = self.unit_registry\n",
    "\n",
    "        d.update({\n",
    "            # band parameters, taken from silicon at room temperature\n",
    "            # source: http://www.ioffe.ru/SVA/NSM/Semicond/Si/bandstr.html\n",
    "            'CB/energy_level': U('1.12 eV'),\n",
    "            'VB/energy_level': U('0 eV'),\n",
    "            'CB/effective_density_of_states': U('3.2e19 1/cm^3'),\n",
    "            'VB/effective_density_of_states': U('1.8e19 1/cm^3'),\n",
    "\n",
    "            # electrical properties\n",
    "            # source: http://www.ioffe.ru/SVA/NSM/Semicond/Si/electric.html\n",
    "            'CB/mobility': U('1400 cm^2/V/s'),\n",
    "            'VB/mobility': U(' 450 cm^2/V/s'),\n",
    "\n",
    "            # poisson\n",
    "            # http://www.ioffe.ru/SVA/NSM/Semicond/Si/optic.html\n",
    "            'poisson/permittivity': U('11.7 vacuum_permittivity'),\n",
    "        })\n",
    "\n",
    "        return d"
   ]
  },
  {
   "cell_type": "markdown",
   "metadata": {},
   "source": [
    "The rules that begin with `CB/` or `VB/` give properties associated to the bands named `CB` and `VB`. If we had instead instantiated the conduction band as  \n",
    "`CB = pdd.easy_add_band(name='C_B',sign=-1)`  \n",
    "then the `CB/mobility` and other properties would *not* be associated with this band. We would need the material file to have rules `C_B/mobility`, etc.\n",
    "\n",
    "We now `register` these properties. Since both our `p` and `n` region have the same material, these properties will be registered throughout the domain."
   ]
  },
  {
   "cell_type": "code",
   "execution_count": null,
   "metadata": {},
   "outputs": [],
   "source": [
    "SimpleMaterial(problem_data=problem_ntrl).register()"
   ]
  },
  {
   "cell_type": "markdown",
   "metadata": {},
   "source": [
    "As an aside, we can look in the `spatial` object to see the rules that have been defined, which correspond to all of the properties we have so far given."
   ]
  },
  {
   "cell_type": "code",
   "execution_count": null,
   "metadata": {},
   "outputs": [],
   "source": [
    "print(spatial.value_rules.keys())"
   ]
  },
  {
   "cell_type": "markdown",
   "metadata": {},
   "source": [
    "### Set up topology (and boundary conditions)\n",
    "We need to apply boundary conditions to the appropriate external surfaces. In order to do so, we use Simudo's region/facet topology capabilities. We have already met `R.domain`, which refers to the whole simulation domain. Similarly, `R.exterior` is the area outside of the simulation domain. It is useful for defining the external facets of the simulation region. Similarly, `R.exterior_left` is the area to the left of the simulation region, and there is also `R.exterior_right`, `R.exterior_top`, and `R.exterior_bottom`. Further facets can be defined by the user, as we will now do.\n",
    "\n",
    "We will now define two contacts, which will have Ohmic boundary conditions. We will call them `p_contact` and `n_contact`."
   ]
  },
  {
   "cell_type": "code",
   "execution_count": null,
   "metadata": {},
   "outputs": [],
   "source": [
    "F.p_contact = R.exterior_left.boundary(R.domain)\n",
    "F.n_contact = R.domain.boundary(R.exterior_right)"
   ]
  },
  {
   "cell_type": "markdown",
   "metadata": {},
   "source": [
    "In these lines, we have used the `CellRegions` `boundary` method to define a facet with positive orientation from  `R.exterior_left` toward `R.domain`. In order to keep a consistent sense of positive flow (for current densities), we define the `n_contact` as being the boundary from `R.domain` to `R.exterior_right`.  \n",
    "We can take the union of the two contact facets, to make boundary conditions easier to apply."
   ]
  },
  {
   "cell_type": "code",
   "execution_count": null,
   "metadata": {},
   "outputs": [],
   "source": [
    "F.contacts = F.p_contact | F.n_contact"
   ]
  },
  {
   "cell_type": "markdown",
   "metadata": {},
   "source": [
    "The top and bottom of the simulation domain in this problem are nonconductive boundaries."
   ]
  },
  {
   "cell_type": "code",
   "execution_count": null,
   "metadata": {},
   "outputs": [],
   "source": [
    "F.exterior = R.exterior.boundary(R.domain)\n",
    "F.nonconductive = F.exterior - F.contacts.both()"
   ]
  },
  {
   "cell_type": "markdown",
   "metadata": {},
   "source": [
    "You might think that `F.nonconductive = F.exterior - F.contacts` would have been sufficient to define the nonconductive boundary, but facets are defined by both their location *and* their direction. Here, `F.exterior` is oriented from the outside into the domain, which agrees with the orientation of `F.p_contact` but does not agree with the orientation of `F.n_contact`.  \n",
    "So `F.nonconductive = F.exterior - F.contacts` would produce a boundary along the top, right, and bottom edges of the domain. The `both` method takes both orientations along a facet. It is particlarly useful when making a new boundary by subtraction."
   ]
  },
  {
   "cell_type": "markdown",
   "metadata": {},
   "source": [
    "With these regions defined, we can apply our boundary condition that the perpendicular component of $\\vec{E}$ should be zero along the non-conductive edges of the domain."
   ]
  },
  {
   "cell_type": "code",
   "execution_count": null,
   "metadata": {},
   "outputs": [],
   "source": [
    "mu = pdd.mesh_util #mesh_util has a large number of useful methods for spatial/mesh functions\n",
    "#mu.zerovec is the DOLFIN zero vector, which we use here to apply boundary conditions\n",
    "spatial.add_BC('poisson/E', F.nonconductive,U('V/m') * mu.zerovec)"
   ]
  },
  {
   "cell_type": "markdown",
   "metadata": {},
   "source": [
    "### Local charge neutrality, convergence, and tolerances\n",
    "We are now (finally) ready to solve the local charge neutrality problem!"
   ]
  },
  {
   "cell_type": "code",
   "execution_count": null,
   "metadata": {},
   "outputs": [],
   "source": [
    "problem_ntrl.pdd.easy_auto_pre_solve()"
   ]
  },
  {
   "cell_type": "markdown",
   "metadata": {},
   "source": [
    "The first time this (or any) FEM code is run, all of the forms are compiled, producing free form compiler (FFC) notifications. Rerunning a similar problem will not produce these compilation steps. \n",
    "\n",
    "Not including compilation time, Simudo solves this problem in a couple of seconds. The output is logged to the console and also to the output files `_info.log` and `_debug.log`, where `_` is the `filename_prefix` in the `TypicalLoggingSetup`, above.\n",
    "This output contains the time stamp, the stage of calculation (`newton.ntrl` for the charge neutrality solver, in this case), and information on the Newton iterations.  \n",
    "FEM reduces PDE's to algebra problems. In the case of nonlinear PDE's (such as we have in the device model), we begin with an initial guess trial function $u_0$ and linearize the problem around that guess. We find a $du$ and update the trial function  to $u + du$. With the new approximate solution, we relinearize the problem and iterate until convergence.  \n",
    "The three columns of output can be used to see the process of convergence. At each step, we are solving for $du$ in a problem of the form  \n",
    "$A du = b$.  \n",
    "The $|b|$ output shows the norm of the $b$ vector. The second output shows the largest magnitude value of $du/u$. We do not use that to determine convergence, because it is ill-behaved when any of the components of $u$ is zero. The final output (the combined norm) is the only one used for convergence; the solution is converged when $|du|/(r|u|+a)<1$. The solver has an `extra_iterations` parameter that makes it take a few more Newton steps after reaching convergence, to nail down the solution.  \n",
    "The combined norm includes the relative tolerance $r$ and the absolute tolerance $a$. The absolute tolerance varies for each type of test function, and there is an overall scaling factor `absolute_tolerance` that scales the $a$ values for all test functions.  \n",
    "The defaults can all be changed, but the local charge neutrality solver has $r=1e-14$, which you can see in `physics/poisson_drift_diffusion.py:LocalChargeNeutralitySolver`. The `ThermalEquilibriumSolver` has $r=1e-5$ by default. The absolute tolerances for each quantity are (as of this writing)  \n",
    "$\\phi$: 1e-6 V  \n",
    "$\\vec{E}$: 1e-4 V/mesh\\_unit  \n",
    "$\\Delta w_k$: 1e-6 eV  \n",
    "$\\vec{j}_k$: 1e-10 A/mesh\\_unit$^2$\n",
    "The `LocalChargeNeutrality` and `ThermalEquilibrium` solvers both have `absolute_tolerance=0.1`, so they have a tighter convergence threshold than these values. The combined tolerance is satisfied when each component of the trial function satisfies either the relative tolerance or the absolute tolerance.\n",
    "\n",
    "\n",
    "There is not much of interest in the solution at this point, and we will discuss how to output the results in a useful format for plotting later in this notebook. But for now, we can see the electrostatic potential $\\phi$ by looking at its value at the various mesh nodes. Note that it is mostly constant through the n- and p- regions. "
   ]
  },
  {
   "cell_type": "code",
   "execution_count": null,
   "metadata": {},
   "outputs": [],
   "source": [
    "phi_cn=problem_ntrl.pdd.poisson.phi\n",
    "print(phi_cn.vector().get_local()[0:5])\n",
    "print(phi_cn.vector().get_local()[-5:])"
   ]
  },
  {
   "cell_type": "markdown",
   "metadata": {},
   "source": [
    "## Stage 2 - Thermal equilibrium\n",
    "For now, let's continue to thermal equilibrium. We must construct a new `problem` object, which shares many attributes with `problem_ntrl`. In most code, those are generated by a single function with some `if` statements, but here we will make a new `problem_thmq` object directly."
   ]
  },
  {
   "cell_type": "code",
   "execution_count": null,
   "metadata": {},
   "outputs": [],
   "source": [
    "problem_thmq = ProblemData(goal=\"thermal equilibrium\", \n",
    "                   mesh_data=mesh_data,\n",
    "                  unit_registry=U)\n",
    "pdd = problem_thmq.pdd\n",
    "CB = pdd.easy_add_band(name='CB')\n",
    "VB = pdd.easy_add_band(name='VB')\n",
    "spatial = pdd.spatial\n",
    "spatial.add_rule('temperature', R.domain, U(\"300 K\"))\n",
    "spatial.add_rule('poisson/static_rho', R.p, -N_A) #N_A and N_D defined with units\n",
    "spatial.add_rule('poisson/static_rho', R.n, +N_D)\n",
    "SimpleMaterial(problem_data=problem_thmq).register()\n",
    "mu = pdd.mesh_util \n",
    "spatial.add_BC('poisson/E', F.nonconductive,U('V/m') * mu.zerovec)\n",
    "\n",
    "# Everything above is the same as in Stage 1. \n",
    "# Here is our new boundary condition, imposing the charge-neutrality phi at the contacts\n",
    "spatial.add_BC('poisson/phi', F.contacts, phi_cn)\n"
   ]
  },
  {
   "cell_type": "markdown",
   "metadata": {},
   "source": [
    "We initialize using the solution from the local charge-neutrality solver"
   ]
  },
  {
   "cell_type": "code",
   "execution_count": null,
   "metadata": {},
   "outputs": [],
   "source": [
    "problem_thmq.pdd.initialize_from(problem_ntrl.pdd)"
   ]
  },
  {
   "cell_type": "markdown",
   "metadata": {},
   "source": [
    "and then solve for thermal equilibrium"
   ]
  },
  {
   "cell_type": "code",
   "execution_count": null,
   "metadata": {},
   "outputs": [],
   "source": [
    "problem_thmq.pdd.easy_auto_pre_solve()"
   ]
  },
  {
   "cell_type": "markdown",
   "metadata": {},
   "source": [
    "## Stage 3: The full problem\n",
    "\n",
    "For the full problem, we must add in all of the electrooptical processes (generation/recombination and tunneling) that move carriers between bands as well as imposing boundary conditions on the carrier populations, none of which is required at equilibrium.\n",
    "\n",
    "Solving the full problem is usually done at a range of optical intensities and/or voltages, and we use a stepper to help us step through those, using the solution from the previous step as the initial guess for the next step. \n",
    "\n",
    "[In this example, we will not consider optical fields. But if we were to include them, we would:\n",
    "1. Define the optical fields\n",
    "1. Before using the `VoltageStepper`, we would use an `OpticalStepper` which scales the optical fields to slowly increase the optical intensity, using each step's solution as the initial guess for the next one. This is often the slowest part of a simulation.\n",
    "3. Use the `VoltageStepper` to ramp the voltage. In intermediate band problems, the optical generation problem must be re-solved self consistently as the optical absorption depends on carrier concentrations. This iteration to self-consistency occurs within the Newton iterations of the `VoltageStepper` and is controlled by the `selfconsistent_optics` (default:False) attribute of the `VoltageStepper`.]\n",
    "\n"
   ]
  },
  {
   "cell_type": "code",
   "execution_count": null,
   "metadata": {},
   "outputs": [],
   "source": [
    "problem = ProblemData(goal=\"full\", \n",
    "                  mesh_data=mesh_data,\n",
    "                  unit_registry=U)\n",
    "pdd = problem.pdd\n",
    "CB = pdd.easy_add_band(name='CB')\n",
    "VB = pdd.easy_add_band(name='VB')\n",
    "spatial = pdd.spatial\n",
    "spatial.add_rule('temperature', R.domain, U(\"300 K\"))\n",
    "spatial.add_rule('poisson/static_rho', R.p, -N_A) #N_A and N_D defined with units\n",
    "spatial.add_rule('poisson/static_rho', R.n, +N_D)\n",
    "SimpleMaterial(problem_data=problem).register()\n",
    "mu = pdd.mesh_util \n",
    "spatial.add_BC('poisson/E', F.nonconductive,U('V/m') * mu.zerovec)\n",
    "# Everything above is the same as in Stage 1,2. "
   ]
  },
  {
   "cell_type": "markdown",
   "metadata": {},
   "source": [
    "### Electrooptical processes\n",
    "Now we define our electrooptical processes. For this example, we will define only an SRHRecombination. Simudo currently has built-in methods for optical absorption, radiative recombination, SRH recombination, and nonradiative Shockley-Read (SR) trapping (eg, between CB and IB). More can be added easily, as describe in Section 4.2 of the reference.\n",
    "\n",
    "An electrooptical process (EOP) generally defines a source band `src_band` and a destination band `dst_band`. The convention in Simudo is to think of these bands for the associated *generation* process. By default, both generation and recombination processes are included for each EOP, so adding in optical absorption automatically includes the associated bulk radiative recombination and adding in SRH recombination automatically includes the associated thermal generation. In this pn-diode, an optical absorption process would have `src_band = VB` and `dst_band = CB`. For the SRH process, this convention seems slightly backward, but we consider the `src_band = VB` and `dst_band = CB` as well."
   ]
  },
  {
   "cell_type": "code",
   "execution_count": null,
   "metadata": {},
   "outputs": [],
   "source": [
    "from simudo.physics import SRHRecombination\n",
    "pdd.easy_add_electro_optical_process(SRHRecombination, dst_band=CB, src_band=VB)"
   ]
  },
  {
   "cell_type": "markdown",
   "metadata": {},
   "source": [
    "The `SRHRecombination` process imposes a local recombination from `dst_band` to `src_band` through a trap at energy $E_t$ of\n",
    "\n",
    "$ U = \\frac{np - n_i^2}{(p + p_1)\\tau_n + (n + n_1)\\tau_p}$\n",
    "\n",
    "where $n_1$ and $p_1$ are the concentration of carriers when the Fermi level is $E_t$, and $\\tau_k$ are the associated carrier lifetimes.\n",
    "\n",
    "To evaluate this process, Simudo looks for `spatial` parameters  \n",
    "`SRH/energy_level` to define $E_t$\n",
    "`SRH/bb/tau` where `bb` is replaced by the name of the band (`CB` and `VB` in our case). Then `SRH/CB/tau` defines $\\tau_n$ and `SRH/VB/tau` defines $\\tau_p$ in this example.\n",
    "\n",
    "These parameters can easily be set in the material file, but since we didn't include them there, we can define (or override their rules) here. We defined them to be uniform through the domain, though we can also define them to depend on carrier concentrations or any other spatial quantity."
   ]
  },
  {
   "cell_type": "code",
   "execution_count": null,
   "metadata": {},
   "outputs": [],
   "source": [
    "tau_n = 1e-9 * U(\"s\")\n",
    "tau_p = 1e-6 * U(\"s\")\n",
    "E_t = 0.553 * U(\"eV\")\n",
    "spatial.add_rule('SRH/CB/tau', R.domain, tau_n)\n",
    "spatial.add_rule('SRH/VB/tau', R.domain, tau_p)\n",
    "spatial.add_rule('SRH/energy_level', R.domain, E_t)"
   ]
  },
  {
   "cell_type": "markdown",
   "metadata": {},
   "source": [
    "Note that we have added the `SRHRecombination` process before we defined the parameters required to evaluate it. All processes are stored symbolically until they are evaluated at runtime, so the associated parameters can be defined before or after the processes."
   ]
  },
  {
   "cell_type": "markdown",
   "metadata": {},
   "source": [
    "### More boundary conditions\n",
    "For this example, we  keep the nonconductive boundary condition along the top and bottom surfaces. This is an essential boundary condition on the current densities `j` so that their normal components through those surfaces are zero."
   ]
  },
  {
   "cell_type": "code",
   "execution_count": null,
   "metadata": {},
   "outputs": [],
   "source": [
    "spatial.add_BC('CB/j', F.nonconductive, U('A/cm^2') * mu.zerovec)\n",
    "spatial.add_BC('VB/j', F.nonconductive, U('A/cm^2') * mu.zerovec)"
   ]
  },
  {
   "cell_type": "markdown",
   "metadata": {},
   "source": [
    "At the contacts, we impose ideal boundary conditions: Ohmic condition ($\\Delta u = 0$) for majority carriers and zero surface-recombination velocity (SRV) condition ($\\vec{j}_k \\cdot \\hat{n}=0$) where $\\hat{n}$ is the surface normal and $\\vec{j}_k$ is current density in band $k$. "
   ]
  },
  {
   "cell_type": "code",
   "execution_count": null,
   "metadata": {},
   "outputs": [],
   "source": [
    "# majority contact\n",
    "spatial.add_BC('VB/u', F.p_contact, VB.thermal_equilibrium_u)\n",
    "spatial.add_BC('CB/u', F.n_contact, CB.thermal_equilibrium_u)\n",
    "\n",
    "# minority contact\n",
    "spatial.add_BC('CB/j', F.p_contact, U('A/cm^2') * mu.zerovec)\n",
    "spatial.add_BC('VB/j', F.n_contact, U('A/cm^2') * mu.zerovec)"
   ]
  },
  {
   "cell_type": "markdown",
   "metadata": {},
   "source": [
    "Finally, we impose the boundary conditions on $\\phi$, allowing the external bias $V_{ext}$ to be applied. That parameter will be controlled by the `VoltageStepper`"
   ]
  },
  {
   "cell_type": "code",
   "execution_count": null,
   "metadata": {},
   "outputs": [],
   "source": [
    "import dolfin\n",
    "V_ext = U.V * dolfin.Constant(0.0) "
   ]
  },
  {
   "cell_type": "markdown",
   "metadata": {},
   "source": [
    "`dolfin.Constant` objects tell the compiler that its value doesn't change the properties of any associated form, so they do not need to be recompiled even when the value changes. "
   ]
  },
  {
   "cell_type": "code",
   "execution_count": null,
   "metadata": {},
   "outputs": [],
   "source": [
    "phi0 = pdd.poisson.thermal_equilibrium_phi \n",
    "spatial.add_BC('poisson/phi', F.p_contact, phi0)\n",
    "spatial.add_BC('poisson/phi', F.n_contact, phi0 - V_ext)"
   ]
  },
  {
   "cell_type": "markdown",
   "metadata": {},
   "source": [
    "In this case, we are imposing $V_{ext}$ entirely at the n-contact, but that could be easily changed, for example by\n",
    "```python\n",
    "spatial.add_BC('poisson/phi', F.p_contact, phi0 + V_ext/2)\n",
    "spatial.add_BC('poisson/phi', F.n_contact, phi0 - V_ext/2)\n",
    "```"
   ]
  },
  {
   "cell_type": "markdown",
   "metadata": {},
   "source": [
    "### Set up stepper and output\n",
    "We now initialize the full problem from the thermal equilibrium problem and then set up the stepper"
   ]
  },
  {
   "cell_type": "code",
   "execution_count": null,
   "metadata": {},
   "outputs": [],
   "source": [
    "problem.pdd.initialize_from(problem_thmq.pdd)"
   ]
  },
  {
   "cell_type": "markdown",
   "metadata": {},
   "source": [
    "Choose the values of $V_{ext}$ where we would like output data"
   ]
  },
  {
   "cell_type": "code",
   "execution_count": null,
   "metadata": {},
   "outputs": [],
   "source": [
    "V_targets = np.linspace(0, 1, 11) #These do not get units, which is specified separately"
   ]
  },
  {
   "cell_type": "markdown",
   "metadata": {},
   "source": [
    "Now we can set up the `VoltageStepper`. It takes in the `problem` object and varies `constants` to meet the `parameter_target_values`. "
   ]
  },
  {
   "cell_type": "code",
   "execution_count": null,
   "metadata": {},
   "outputs": [],
   "source": [
    "from simudo.physics import VoltageStepper\n",
    "\n",
    "stepper = VoltageStepper(\n",
    "        solution=problem, \n",
    "        constants=[V_ext],  #specify what constant is changed as we step\n",
    "        parameter_target_values=V_targets,\n",
    "        parameter_unit=U.V,\n",
    "        selfconsistent_optics=False, #We are not considering optics yet\n",
    ")"
   ]
  },
  {
   "cell_type": "markdown",
   "metadata": {},
   "source": [
    "We can run this `VoltageStepper` with `stepper.do_loop()`. If we do so right now, it will solve the problem but will not give any output. We need to specify an `OutputWriter` instance, which `VoltageStepper` will call each time one of the `parameter_target_values` is reached. It produces output files, generally with the filename labeling the corresponding parameter_value. \n",
    "\n",
    "There are many possible outputs that a user may want. The most common choice is to specify a set of extractors `MetaExtractorIntegrals`, `MetaExtractorBandInfo`"
   ]
  },
  {
   "cell_type": "code",
   "execution_count": null,
   "metadata": {},
   "outputs": [],
   "source": [
    "from simudo.io.output_writer import OutputWriter, MetaExtractorIntegrals, MetaExtractorBandInfo\n",
    "output_writer = OutputWriter(filename_prefix=\"out/pn\", parameter_name=\"V\",)"
   ]
  },
  {
   "cell_type": "code",
   "execution_count": null,
   "metadata": {},
   "outputs": [],
   "source": [
    "from functools import partial\n",
    "extractors = (MetaExtractorBandInfo, \n",
    "              partial(MetaExtractorIntegrals,\n",
    "                      facets=F[{'p_contact', 'n_contact'}],\n",
    "                      cells =R[{'p','n'}]\n",
    "                     )\n",
    "             )"
   ]
  },
  {
   "cell_type": "markdown",
   "metadata": {},
   "source": [
    "`MetaExtractorBandInfo` takes every `band` in the problem and extracts all of its items, including the quasi-Fermi-level and current density.  \n",
    "`MetaExtractorIntegrals` calculates \n",
    "1. For each `facet`, the average (mA/cm$^2$) and total (mA) current for each band through that facet\n",
    "2. For each `cell`, \n",
    "  1. average (1/cm$^3$/s and total (1/s) generation for each band in that cell\n",
    "  2. total (1/s) generation associated with each EOP for each band in that cell\n",
    "  3. total (1/s) absorption ($\\alpha \\Phi$) associated with each optical field for each band in that cell\n",
    "  \n",
    "Here, we will extract information at the p- and n-contacts and in the `p` and `n` regions (defined in `layers`). \n",
    "  \n",
    "In addition to these examples, one could output at other `cells`, including `R.domain`, or facets including the pn-junction, `F.junction = R.p.boundary(R.n)`. It's quite flexible.\n",
    "\n",
    "These outputs go into yaml files with the suffix `plot_meta.yaml`"
   ]
  },
  {
   "cell_type": "code",
   "execution_count": null,
   "metadata": {},
   "outputs": [],
   "source": [
    "output_writer.meta_extractors=extractors"
   ]
  },
  {
   "cell_type": "markdown",
   "metadata": {},
   "source": [
    "We can also extract line cuts or full 2D information on all of these extracted quantities.  \n",
    "`plot_1d = True` produces .csv.0 files containing spatial information on a line cut through the domain at `y` halfway through the device.\n",
    "`plot_mesh= True` produces .xdmf files, suitable for viewing in Paraview, containing all spatial quantities \n",
    "`plot_iv = True` produces a separate .csv file containing all of the meta_extractor integrals, with a row for each V, which makes plotting J(V) curves easier."
   ]
  },
  {
   "cell_type": "code",
   "execution_count": null,
   "metadata": {},
   "outputs": [],
   "source": [
    "output_writer.plot_1d=True\n",
    "output_writer.line_cut_resolution=1000 #number of points for the 1d sections. Default is 5000\n",
    "output_writer.plot_mesh=False\n",
    "output_writer.plot_iv=True"
   ]
  },
  {
   "cell_type": "markdown",
   "metadata": {},
   "source": [
    "Now we give this `OutputWriter` instance to the `stepper`"
   ]
  },
  {
   "cell_type": "code",
   "execution_count": null,
   "metadata": {},
   "outputs": [],
   "source": [
    "stepper.output_writer=output_writer"
   ]
  },
  {
   "cell_type": "markdown",
   "metadata": {},
   "source": [
    "Finally, we are ready to solve the pn diode."
   ]
  },
  {
   "cell_type": "code",
   "execution_count": null,
   "metadata": {},
   "outputs": [],
   "source": [
    "stepper.do_loop()"
   ]
  },
  {
   "cell_type": "markdown",
   "metadata": {},
   "source": [
    "The output here looks similar to the previous solvers. We can see the main `newton` iterations moving to convergence. `adaptive solve_parameter` in our case is `V_ext`. The `step_size` is the Newton step size. It will grow with successful Newton steps and shrink if they fail to converge, but it will make sure to reach the `V_targets`, which in this case limits its size. Runtime is about a minute, and there are no Newton failures in this example. "
   ]
  },
  {
   "cell_type": "markdown",
   "metadata": {},
   "source": [
    "## Simple plotting \n"
   ]
  },
  {
   "cell_type": "code",
   "execution_count": null,
   "metadata": {},
   "outputs": [],
   "source": [
    "import pandas as pd\n",
    "\n",
    "df = pd.read_csv(\"out/pn_V.csv\",skiprows=[1]) #skip the row containing units"
   ]
  },
  {
   "cell_type": "code",
   "execution_count": null,
   "metadata": {},
   "outputs": [],
   "source": [
    "df"
   ]
  },
  {
   "cell_type": "code",
   "execution_count": null,
   "metadata": {},
   "outputs": [],
   "source": [
    "df['V'] = df['sweep_parameter:V']\n",
    "df['J'] = df['avg:current_CB:p_contact'] + df['avg:current_VB:p_contact']\n",
    "# df = df[df['V'] != 0]\n",
    "\n",
    "fig, ax = plt.subplots()\n",
    "ax.plot(df['V'], df['J'], label=\"$J(V)$\", marker='o')\n",
    "ax.set_yscale('log')\n",
    "ax.set_xlabel(r'applied potential ($\\mathrm{V}$)')\n",
    "ax.set_ylabel(r'total current ($\\mathrm{mA}/\\mathrm{cm}^2$)')\n",
    "ax.legend()\n",
    "fig.tight_layout()\n",
    "# fig.savefig(\"out/tutorial-pn-diode-JV.png\")"
   ]
  },
  {
   "cell_type": "markdown",
   "metadata": {},
   "source": [
    "We can also extract spatial quantities, for example to make a band diagram."
   ]
  },
  {
   "cell_type": "code",
   "execution_count": null,
   "metadata": {},
   "outputs": [],
   "source": [
    "plot_V = \"0.2\"\n",
    "df1=pd.read_csv(f\"out/pn_V={plot_V}.csv.0\")"
   ]
  },
  {
   "cell_type": "code",
   "execution_count": null,
   "metadata": {},
   "outputs": [],
   "source": [
    "df1"
   ]
  },
  {
   "cell_type": "code",
   "execution_count": null,
   "metadata": {},
   "outputs": [],
   "source": [
    "fig, axs = plt.subplots(3,1,sharex=True,figsize=(6,10))\n",
    "ax=axs[0]\n",
    "ax.plot(df1['coord_x'], df1['Ephi_CB'], color='k')\n",
    "ax.plot(df1['coord_x'], df1['Ephi_VB'], color='k')\n",
    "ax.plot(df1['coord_x'], df1['qfl_CB'], color='b', linestyle='--', label=r'$E_{F,C}$')\n",
    "ax.plot(df1['coord_x'], df1['qfl_VB'], color='r', linestyle='--', label=r'$E_{F,V}$')\n",
    "ax.set_title(f\"V = {plot_V} V\")\n",
    "# ax.set_xlabel(r'x ($\\mu$m)')\n",
    "ax.set_ylabel(r'Energy (eV)')\n",
    "ax.legend()\n",
    "\n",
    "ax=axs[1]\n",
    "ax.plot(df1['coord_x'], df1['u_CB'], color='b',label=r'n')\n",
    "ax.plot(df1['coord_x'], df1['u_VB'], color='r',label=r'p')\n",
    "ax.set_ylabel(r'carrier concentration (1/cm$^3$)')\n",
    "ax.set_yscale('log')\n",
    "ax.legend()\n",
    "\n",
    "ax=axs[2]\n",
    "ax.plot(df1['coord_x'], df1['g_SRH_CB'], color='k',label=r'g_{SRH}')\n",
    "ax.set_xlabel(r'x ($\\mu$m)')\n",
    "ax.set_ylabel(r'SRH generation rate (1/cm$^3$/s)')\n",
    "ax.set_yscale('symlog')"
   ]
  },
  {
   "cell_type": "markdown",
   "metadata": {},
   "source": [
    "While J(V) is well resolved, in the depletion region there are locations where the carrier concentration is less well resolved, though some of that error comes from projecting the solutions on the calculation space to the output space. A tighter mesh (eg, setting `factor=1.05` in `mesh`) can reduce the scale of these deviations, if desired, but their overall magnitude is not significant."
   ]
  },
  {
   "cell_type": "code",
   "execution_count": null,
   "metadata": {},
   "outputs": [],
   "source": []
  }
 ],
 "metadata": {
  "kernelspec": {
   "display_name": "Python 3",
   "language": "python",
   "name": "python3"
  },
  "language_info": {
   "codemirror_mode": {
    "name": "ipython",
    "version": 3
   },
   "file_extension": ".py",
   "mimetype": "text/x-python",
   "name": "python",
   "nbconvert_exporter": "python",
   "pygments_lexer": "ipython3",
   "version": "3.7.3"
  }
 },
 "nbformat": 4,
 "nbformat_minor": 4
}
